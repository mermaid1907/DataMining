{
 "cells": [
  {
   "cell_type": "code",
   "execution_count": 1,
   "id": "807012bd-1182-425f-94c2-f086ace0dd20",
   "metadata": {},
   "outputs": [],
   "source": [
    "# Import necessary libraries\n",
    "import pandas as pd\n",
    "import numpy as np\n",
    "import random\n",
    "import matplotlib.pyplot as plt\n",
    "import seaborn as sns\n",
    "from sklearn.model_selection import train_test_split, cross_val_score\n",
    "from sklearn.metrics import mean_squared_error, r2_score\n",
    "from sklearn.ensemble import RandomForestRegressor\n",
    "\n",
    "# Load the data\n",
    "data = pd.read_csv('datasets/obesity/obesity.csv')"
   ]
  },
  {
   "cell_type": "code",
   "execution_count": 2,
   "id": "fd4b6460-f08a-4ef6-83a1-7e5d5734052c",
   "metadata": {},
   "outputs": [],
   "source": [
    "# Mapping categorical variables to integers\n",
    "mappings = {\n",
    "    'Gender': {'Female': 0, 'Male': 1},\n",
    "    'family_history_with_overweight': {'no': 0, 'yes': 1},\n",
    "    'FAVC': {'no': 0, 'yes': 1},\n",
    "    'CAEC': {'no': 0, 'Sometimes': 1, 'Frequently': 2, 'Always': 3},\n",
    "    'SMOKE': {'no': 0, 'yes': 1},\n",
    "    'SCC': {'no': 0, 'yes': 1},\n",
    "    'CALC': {'no': 0, 'Sometimes': 1, 'Frequently': 2, 'Always': 3},\n",
    "    'MTRANS': {'Walking': 0, 'Bike': 1, 'Motorbike': 2, 'Automobile': 3, 'Public_Transportation': 4},\n",
    "    'NObeyesdad': {'Insufficient_Weight': 0, 'Normal_Weight': 1, 'Overweight_Level_I': 2,\n",
    "                   'Overweight_Level_II': 3, 'Obesity_Type_I': 4, 'Obesity_Type_II': 5, 'Obesity_Type_III': 6}\n",
    "}\n",
    "\n",
    "for col, mapping in mappings.items():\n",
    "    data[col] = data[col].map(mapping)"
   ]
  },
  {
   "cell_type": "code",
   "execution_count": 3,
   "id": "bb363728-05c7-448a-bffa-58ff663ca9d3",
   "metadata": {},
   "outputs": [
    {
     "name": "stdout",
     "output_type": "stream",
     "text": [
      "<class 'pandas.core.frame.DataFrame'>\n",
      "RangeIndex: 2111 entries, 0 to 2110\n",
      "Data columns (total 17 columns):\n",
      " #   Column                          Non-Null Count  Dtype  \n",
      "---  ------                          --------------  -----  \n",
      " 0   Gender                          2111 non-null   int64  \n",
      " 1   Age                             2111 non-null   float64\n",
      " 2   Height                          2111 non-null   float64\n",
      " 3   Weight                          2111 non-null   float64\n",
      " 4   family_history_with_overweight  2111 non-null   int64  \n",
      " 5   FAVC                            2111 non-null   int64  \n",
      " 6   FCVC                            2111 non-null   float64\n",
      " 7   NCP                             2111 non-null   float64\n",
      " 8   CAEC                            2111 non-null   int64  \n",
      " 9   SMOKE                           2111 non-null   int64  \n",
      " 10  CH2O                            2111 non-null   float64\n",
      " 11  SCC                             2111 non-null   int64  \n",
      " 12  FAF                             2111 non-null   float64\n",
      " 13  TUE                             2111 non-null   float64\n",
      " 14  CALC                            2111 non-null   int64  \n",
      " 15  MTRANS                          2111 non-null   int64  \n",
      " 16  NObeyesdad                      2111 non-null   int64  \n",
      "dtypes: float64(8), int64(9)\n",
      "memory usage: 280.5 KB\n",
      "None\n",
      "   Gender   Age  Height  Weight  family_history_with_overweight  FAVC  FCVC  \\\n",
      "0       0  21.0    1.62    64.0                               1     0   2.0   \n",
      "1       0  21.0    1.52    56.0                               1     0   3.0   \n",
      "2       1  23.0    1.80    77.0                               1     0   2.0   \n",
      "3       1  27.0    1.80    87.0                               0     0   3.0   \n",
      "4       1  22.0    1.78    89.8                               0     0   2.0   \n",
      "\n",
      "   NCP  CAEC  SMOKE  CH2O  SCC  FAF  TUE  CALC  MTRANS  NObeyesdad  \n",
      "0  3.0     1      0   2.0    0  0.0  1.0     0       4           1  \n",
      "1  3.0     1      1   3.0    1  3.0  0.0     1       4           1  \n",
      "2  3.0     1      0   2.0    0  2.0  1.0     2       4           1  \n",
      "3  3.0     1      0   2.0    0  2.0  0.0     2       0           2  \n",
      "4  1.0     1      0   2.0    0  0.0  0.0     1       4           3  \n"
     ]
    }
   ],
   "source": [
    "# Check the data after changes\n",
    "print(data.info())\n",
    "print(data.head())"
   ]
  },
  {
   "cell_type": "code",
   "execution_count": 3,
   "id": "18594655-8283-4501-9e28-9e28230712a4",
   "metadata": {},
   "outputs": [
    {
     "name": "stdout",
     "output_type": "stream",
     "text": [
      "Cross-Validation Scores (Negative Mean Squared Error):\n",
      "[-9.47136792e-02 -1.06443602e-01 -3.29545024e-02 -1.97881517e-02\n",
      " -4.12587678e-02 -2.85407583e-02 -3.16616114e-02 -2.09777251e-02\n",
      " -2.04502370e-03 -4.73933649e-07]\n",
      "Mean Negative MSE: -0.04\n",
      "Standard Deviation: 0.03\n",
      "\n",
      "------------------------\n",
      "\n",
      "Mean Squared Error: 0.03\n",
      "Root Mean Squared Error: 0.18\n",
      "R-squared: 0.99\n",
      "\n",
      "Feature Importances:\n",
      "[4.32370284e-02 3.30066477e-03 5.81175933e-02 8.83441868e-01\n",
      " 2.19066432e-04 1.22100849e-03 3.83057107e-03 1.21179723e-03\n",
      " 1.03648888e-03 1.17788274e-04 1.51898563e-03 1.07940573e-04\n",
      " 9.44687293e-04 6.88342107e-04 5.71724581e-04 4.34444638e-04]\n"
     ]
    }
   ],
   "source": [
    "# Separate the features and target variables\n",
    "X = data.drop('NObeyesdad', axis=1)\n",
    "y = data['NObeyesdad']\n",
    "\n",
    "# Split the data into training and testing sets\n",
    "X_train, X_test, y_train, y_test = train_test_split(X, y, test_size=0.2, random_state=42)\n",
    "\n",
    "# Regression Task: Random Forest Regression\n",
    "rf_reg = RandomForestRegressor(n_estimators=100, random_state=42)\n",
    "rf_reg.fit(X_train, y_train)\n",
    "y_pred = rf_reg.predict(X_test)\n",
    "\n",
    "# Cross-validation with 10 folds\n",
    "scores = cross_val_score(rf_reg, X, y, cv=10, scoring='neg_mean_squared_error')\n",
    "\n",
    "# Print the cross-validation scores\n",
    "print(\"Cross-Validation Scores (Negative Mean Squared Error):\")\n",
    "print(scores)\n",
    "\n",
    "# Calculate the mean and standard deviation of the cross-validation scores\n",
    "print(f\"Mean Negative MSE: {np.mean(scores):.2f}\")\n",
    "print(f\"Standard Deviation: {np.std(scores):.2f}\")\n",
    "\n",
    "print(\"\\n------------------------\\n\")\n",
    "\n",
    "# Mean Squared Error\n",
    "mse = mean_squared_error(y_test, y_pred)\n",
    "print(f\"Mean Squared Error: {mse:.2f}\")\n",
    "\n",
    "# Root Mean Squared Error\n",
    "rmse = np.sqrt(mse)\n",
    "print(f\"Root Mean Squared Error: {rmse:.2f}\")\n",
    "\n",
    "# R-squared (Coefficient of Determination)\n",
    "r2 = r2_score(y_test, y_pred)\n",
    "print(f\"R-squared: {r2:.2f}\")\n",
    "\n",
    "# Feature importances\n",
    "print(\"\\nFeature Importances:\")\n",
    "print(rf_reg.feature_importances_)"
   ]
  },
  {
   "cell_type": "code",
   "execution_count": 4,
   "id": "83f5db86-5324-4202-ac85-8338ca15e023",
   "metadata": {},
   "outputs": [
    {
     "name": "stdout",
     "output_type": "stream",
     "text": [
      "Actual Value: 5.00, Predicted Value: 4.77\n",
      "Actual Value: 0.00, Predicted Value: 0.00\n",
      "Actual Value: 1.00, Predicted Value: 1.65\n",
      "Actual Value: 2.00, Predicted Value: 2.02\n",
      "Actual Value: 4.00, Predicted Value: 3.99\n",
      "Actual Value: 4.00, Predicted Value: 4.95\n",
      "Actual Value: 2.00, Predicted Value: 2.00\n",
      "Actual Value: 3.00, Predicted Value: 3.00\n",
      "Actual Value: 5.00, Predicted Value: 5.00\n",
      "Actual Value: 2.00, Predicted Value: 1.10\n",
      "Actual Value: 4.00, Predicted Value: 3.98\n",
      "Actual Value: 0.00, Predicted Value: 0.00\n",
      "Actual Value: 3.00, Predicted Value: 2.97\n",
      "Actual Value: 1.00, Predicted Value: 0.63\n",
      "Actual Value: 5.00, Predicted Value: 5.00\n"
     ]
    }
   ],
   "source": [
    "# Select a few random indices from the test set to compare actual and predicted values\n",
    "random_indices = random.sample(range(len(y_test)), 15)\n",
    "\n",
    "for i in random_indices:\n",
    "    actual_value = y_test.iloc[i]\n",
    "    predicted_value = y_pred[i]\n",
    "    print(f\"Actual Value: {actual_value:.2f}, Predicted Value: {predicted_value:.2f}\")"
   ]
  },
  {
   "cell_type": "code",
   "execution_count": 5,
   "id": "a8bdada8-6ca4-4b9b-be2f-77795b43399c",
   "metadata": {},
   "outputs": [
    {
     "name": "stdout",
     "output_type": "stream",
     "text": [
      "Cross-Validation Scores (Pruned, Negative Mean Squared Error):\n",
      "[-0.52578847 -0.38220115 -0.36871804 -0.24534898 -0.20602257 -0.17351403\n",
      " -0.36156358 -0.20343486 -0.0665203  -0.05803966]\n",
      "Mean Negative MSE: -0.26\n",
      "Standard Deviation: 0.14\n",
      "\n",
      "------------------------\n",
      "\n",
      "Mean Squared Error (Pruned): 0.17\n",
      "Root Mean Squared Error (Pruned): 0.42\n",
      "R-squared (Pruned): 0.96\n"
     ]
    }
   ],
   "source": [
    "# Separate the features and target variables\n",
    "X = data.drop('NObeyesdad', axis=1)\n",
    "y = data['NObeyesdad']\n",
    "\n",
    "# Split the data into training and testing sets\n",
    "X_train, X_test, y_train, y_test = train_test_split(X, y, test_size=0.2, random_state=42)\n",
    "\n",
    "# Regression Task: Random Forest Regression (Pruned)\n",
    "rf_reg_pruned = RandomForestRegressor(n_estimators=100, random_state=42, max_depth=10, min_samples_leaf=10, min_samples_split=10, max_features='sqrt')\n",
    "rf_reg_pruned.fit(X_train, y_train)\n",
    "y_pred_pruned = rf_reg_pruned.predict(X_test)\n",
    "\n",
    "# Cross-validation with 10 folds\n",
    "scores_pruned = cross_val_score(rf_reg_pruned, X, y, cv=10, scoring='neg_mean_squared_error')\n",
    "\n",
    "# Print the cross-validation scores\n",
    "print(\"Cross-Validation Scores (Pruned, Negative Mean Squared Error):\")\n",
    "print(scores_pruned)\n",
    "\n",
    "# Calculate the mean and standard deviation of the cross-validation scores\n",
    "print(f\"Mean Negative MSE: {np.mean(scores_pruned):.2f}\")\n",
    "print(f\"Standard Deviation: {np.std(scores_pruned):.2f}\")\n",
    "\n",
    "print(\"\\n------------------------\\n\")\n",
    "\n",
    "# Mean Squared Error\n",
    "mse_pruned = mean_squared_error(y_test, y_pred_pruned)\n",
    "print(f\"Mean Squared Error (Pruned): {mse_pruned:.2f}\")\n",
    "\n",
    "# Root Mean Squared Error\n",
    "rmse_pruned = np.sqrt(mse_pruned)\n",
    "print(f\"Root Mean Squared Error (Pruned): {rmse_pruned:.2f}\")\n",
    "\n",
    "# R-squared (Coefficient of Determination)\n",
    "r2_pruned = r2_score(y_test, y_pred_pruned)\n",
    "print(f\"R-squared (Pruned): {r2_pruned:.2f}\")"
   ]
  },
  {
   "cell_type": "code",
   "execution_count": 6,
   "id": "a358d7f7-0e53-495c-bb5a-f5769dbd5eb8",
   "metadata": {},
   "outputs": [
    {
     "name": "stdout",
     "output_type": "stream",
     "text": [
      "Actual Value: 1.00, Predicted Value: 1.03\n",
      "Actual Value: 3.00, Predicted Value: 2.95\n",
      "Actual Value: 4.00, Predicted Value: 4.74\n",
      "Actual Value: 4.00, Predicted Value: 4.00\n",
      "Actual Value: 6.00, Predicted Value: 6.00\n",
      "Actual Value: 5.00, Predicted Value: 5.00\n",
      "Actual Value: 6.00, Predicted Value: 6.00\n",
      "Actual Value: 5.00, Predicted Value: 5.01\n",
      "Actual Value: 0.00, Predicted Value: 0.02\n",
      "Actual Value: 5.00, Predicted Value: 5.00\n",
      "Actual Value: 6.00, Predicted Value: 6.00\n",
      "Actual Value: 4.00, Predicted Value: 3.99\n",
      "Actual Value: 4.00, Predicted Value: 4.01\n",
      "Actual Value: 3.00, Predicted Value: 3.29\n",
      "Actual Value: 6.00, Predicted Value: 6.00\n"
     ]
    }
   ],
   "source": [
    "# Select a few random indices from the test set to compare actual and predicted values\n",
    "random_indices = random.sample(range(len(y_test)), 15)\n",
    "\n",
    "for i in random_indices:\n",
    "    actual_value = y_test.iloc[i]\n",
    "    predicted_value = y_pred[i]\n",
    "    print(f\"Actual Value: {actual_value:.2f}, Predicted Value: {predicted_value:.2f}\")"
   ]
  },
  {
   "cell_type": "code",
   "execution_count": 7,
   "id": "2f473381-610e-4f48-800b-659aaf22a07b",
   "metadata": {},
   "outputs": [
    {
     "data": {
      "image/png": "[encoded data removed]",
      "text/plain": [
       "<Figure size 1000x600 with 1 Axes>"
      ]
     },
     "metadata": {},
     "output_type": "display_data"
    }
   ],
   "source": [
    "# Create a scatter plot\n",
    "plt.figure(figsize=(10, 6))\n",
    "sns.scatterplot(x=y_test, y=y_pred)\n",
    "\n",
    "# Add a regression line\n",
    "sns.regplot(x=y_test, y=y_pred, ci=None, scatter=False, color='red')\n",
    "\n",
    "# Add labels and title\n",
    "plt.xlabel('Actual Values')\n",
    "plt.ylabel('Predicted Values')\n",
    "plt.title('Random Forest Regression Predictions')\n",
    "\n",
    "# Show the plot\n",
    "plt.show()"
   ]
  },
  {
   "cell_type": "code",
   "execution_count": 11,
   "id": "b66c5697-e92f-4751-bcb3-9fb385063c27",
   "metadata": {},
   "outputs": [
    {
     "name": "stdout",
     "output_type": "stream",
     "text": [
      "Cross-Validation Scores with PCA (Negative Mean Squared Error):\n",
      "[-0.54087358 -0.41949242 -0.22967062 -0.11730521 -0.25135687 -0.37331659\n",
      " -0.2376763  -0.15828389 -0.04112607 -0.04659953]\n",
      "Mean Negative MSE: -0.24\n",
      "Standard Deviation: 0.15\n",
      "\n",
      "------------------------\n",
      "\n",
      "Mean Squared Error (with PCA): 0.19\n",
      "Root Mean Squared Error (with PCA): 0.44\n",
      "R-squared (with PCA): 0.95\n"
     ]
    }
   ],
   "source": [
    "# Import required libraries\n",
    "from sklearn.decomposition import PCA\n",
    "from sklearn.pipeline import make_pipeline\n",
    "\n",
    "# Separate the features and target variables\n",
    "X = data.drop('NObeyesdad', axis=1)\n",
    "y = data['NObeyesdad']\n",
    "\n",
    "# Split the data into training and testing sets\n",
    "X_train, X_test, y_train, y_test = train_test_split(X, y, test_size=0.2, random_state=42)\n",
    "\n",
    "# Create a pipeline with PCA and Random Forest Regression\n",
    "pca = PCA(n_components=5)\n",
    "rf_reg_pca = make_pipeline(pca, RandomForestRegressor(n_estimators=100, random_state=42))\n",
    "\n",
    "# Fit the pipeline on the training data\n",
    "rf_reg_pca.fit(X_train, y_train)\n",
    "\n",
    "# Make predictions on the test data\n",
    "y_pred_pca = rf_reg_pca.predict(X_test)\n",
    "\n",
    "# Cross-validation with 10 folds\n",
    "scores_pca = cross_val_score(rf_reg_pca, X, y, cv=10, scoring='neg_mean_squared_error')\n",
    "\n",
    "# Print the cross-validation scores\n",
    "print(\"Cross-Validation Scores with PCA (Negative Mean Squared Error):\")\n",
    "print(scores_pca)\n",
    "\n",
    "# Calculate the mean and standard deviation of the cross-validation scores\n",
    "print(f\"Mean Negative MSE: {np.mean(scores_pca):.2f}\")\n",
    "print(f\"Standard Deviation: {np.std(scores_pca):.2f}\")\n",
    "\n",
    "print(\"\\n------------------------\\n\")\n",
    "\n",
    "# Mean Squared Error\n",
    "mse_pca = mean_squared_error(y_test, y_pred_pca)\n",
    "print(f\"Mean Squared Error (with PCA): {mse_pca:.2f}\")\n",
    "\n",
    "# Root Mean Squared Error\n",
    "rmse_pca = np.sqrt(mse_pca)\n",
    "print(f\"Root Mean Squared Error (with PCA): {rmse_pca:.2f}\")\n",
    "\n",
    "# R-squared (Coefficient of Determination)\n",
    "r2_pca = r2_score(y_test, y_pred_pca)\n",
    "print(f\"R-squared (with PCA): {r2_pca:.2f}\")"
   ]
  },
  {
   "cell_type": "code",
   "execution_count": 14,
   "id": "ec26b34f-3d32-4015-bc5b-44b64f2547f4",
   "metadata": {},
   "outputs": [
    {
     "name": "stdout",
     "output_type": "stream",
     "text": [
      "Cross-Validation Scores with Dropped Features (Negative Mean Squared Error):\n",
      "[-0.55524452 -0.42087638 -0.43523622 -0.35395309 -0.23863214 -0.18151598\n",
      " -0.40109346 -0.23373041 -0.07359751 -0.16737077]\n",
      "Mean Negative MSE: -0.31\n",
      "Standard Deviation: 0.14\n",
      "\n",
      "------------------------\n",
      "\n",
      "Mean Squared Error (with Dropped Features): 0.21\n",
      "Root Mean Squared Error (with Dropped Features): 0.46\n",
      "R-squared (with Dropped Features): 0.95\n"
     ]
    }
   ],
   "source": [
    "# Separate the features and target variables\n",
    "X = data.drop(['NObeyesdad', 'Gender', 'NCP', 'SMOKE'], axis=1)\n",
    "y = data['NObeyesdad']\n",
    "\n",
    "# Split the data into training and testing sets\n",
    "X_train, X_test, y_train, y_test = train_test_split(X, y, test_size=0.2, random_state=42)\n",
    "\n",
    "# Regression Task: Random Forest Regression with dropped features\n",
    "rf_reg_dropped = RandomForestRegressor(n_estimators=100, random_state=42, max_depth=15, min_samples_leaf=10, min_samples_split=10, max_features='sqrt')\n",
    "rf_reg_dropped.fit(X_train, y_train)\n",
    "y_pred_dropped = rf_reg_dropped.predict(X_test)\n",
    "\n",
    "# Cross-validation with 10 folds\n",
    "scores_dropped = cross_val_score(rf_reg_dropped, X, y, cv=10, scoring='neg_mean_squared_error')\n",
    "\n",
    "# Print the cross-validation scores\n",
    "print(\"Cross-Validation Scores with Dropped Features (Negative Mean Squared Error):\")\n",
    "print(scores_dropped)\n",
    "\n",
    "# Calculate the mean and standard deviation of the cross-validation scores\n",
    "print(f\"Mean Negative MSE: {np.mean(scores_dropped):.2f}\")\n",
    "print(f\"Standard Deviation: {np.std(scores_dropped):.2f}\")\n",
    "\n",
    "print(\"\\n------------------------\\n\")\n",
    "\n",
    "# Mean Squared Error\n",
    "mse_dropped = mean_squared_error(y_test, y_pred_dropped)\n",
    "print(f\"Mean Squared Error (with Dropped Features): {mse_dropped:.2f}\")\n",
    "\n",
    "# Root Mean Squared Error\n",
    "rmse_dropped = np.sqrt(mse_dropped)\n",
    "print(f\"Root Mean Squared Error (with Dropped Features): {rmse_dropped:.2f}\")\n",
    "\n",
    "# R-squared (Coefficient of Determination)\n",
    "r2_dropped = r2_score(y_test, y_pred_dropped)\n",
    "print(f\"R-squared (with Dropped Features): {r2_dropped:.2f}\")"
   ]
  }
 ],
 "metadata": {
  "kernelspec": {
   "display_name": "Python 3 (ipykernel)",
   "language": "python",
   "name": "python3"
  },
  "language_info": {
   "codemirror_mode": {
    "name": "ipython",
    "version": 3
   },
   "file_extension": ".py",
   "mimetype": "text/x-python",
   "name": "python",
   "nbconvert_exporter": "python",
   "pygments_lexer": "ipython3",
   "version": "3.10.12"
  }
 },
 "nbformat": 4,
 "nbformat_minor": 5
}
